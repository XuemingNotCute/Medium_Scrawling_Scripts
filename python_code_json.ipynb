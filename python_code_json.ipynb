{
 "cells": [
  {
   "cell_type": "code",
   "execution_count": 1,
   "metadata": {
    "collapsed": true
   },
   "outputs": [],
   "source": [
    "from bs4 import BeautifulSoup\n",
    "import requests\n",
    "import time\n",
    "import csv\n",
    "import json\n",
    "import pandas as pd\n",
    "import sys"
   ]
  },
  {
   "cell_type": "code",
   "execution_count": 2,
   "metadata": {},
   "outputs": [],
   "source": [
    "df = pd.read_excel('C:/Users/e0267625/Desktop/links.xlsx')"
   ]
  },
  {
   "cell_type": "code",
   "execution_count": 3,
   "metadata": {},
   "outputs": [],
   "source": [
    "articles = 0\n",
    "lost_articles = 0"
   ]
  },
  {
   "cell_type": "code",
   "execution_count": null,
   "metadata": {},
   "outputs": [
    {
     "name": "stdout",
     "output_type": "stream",
     "text": [
      "Articles scrapped: 15 | Articles lost: 3  \r"
     ]
    }
   ],
   "source": [
    "file = open('article.json', 'a+')\n",
    "for i in range(len(df['Links'])):\n",
    "    url = df['Links'][i]\n",
    "    response = requests.get(url)\n",
    "    response.encoding = 'utf-8'\n",
    "    time.sleep(2)\n",
    "    soup = BeautifulSoup(response.text, 'html.parser')\n",
    "    if soup.select('time')[0].get_text():\n",
    "        date = soup.select('time')[0].get_text()\n",
    "    else:\n",
    "        lost_articles = lost_articles + 1\n",
    "        continue\n",
    "    if soup.select('span.readingTime')[0]['title']:\n",
    "        read_time = soup.select('span.readingTime')[0]['title']\n",
    "    else:\n",
    "        lost_articles = lost_articles + 1\n",
    "        continue\n",
    "    if soup.select('button.js-multirecommendCountButton'): \n",
    "        shares = soup.select('button.js-multirecommendCountButton')[0].get_text()\n",
    "    else:\n",
    "        lost_articles = lost_articles + 1\n",
    "        continue\n",
    "    if soup.select('.ds-link')[0].get_text():\n",
    "        author = soup.select('.ds-link')[0].get_text()\n",
    "    else:\n",
    "        lost_articles = lost_articles + 1\n",
    "        continue\n",
    "    if soup.select('.graf--p'):\n",
    "        contents = soup.select('.graf--p')\n",
    "        articles = articles + 1\n",
    "    else:\n",
    "        lost_articles = lost_articles + 1\n",
    "        continue\n",
    "    content = ''\n",
    "    for f in contents:\n",
    "        content += f.get_text().replace('\\u200a','') \n",
    "    data = [{'category':df[\"Topic\"][i],'title':df[\"Titles\"][i],'author':author,'date':date,'read_time':read_time,'shares':shares,'content':content}]\n",
    "    data = json.dumps(data) \n",
    "    sys.stdout.write(\"Articles scrapped: %d | Articles lost: %d  \\r\" % (articles,lost_articles) )\n",
    "    sys.stdout.flush()\n",
    "    file.write(data)\n",
    "    file.write('\\n')\n",
    "file.close()"
   ]
  }
 ],
 "metadata": {
  "kernelspec": {
   "display_name": "Python 3",
   "language": "python",
   "name": "python3"
  },
  "language_info": {
   "codemirror_mode": {
    "name": "ipython",
    "version": 3
   },
   "file_extension": ".py",
   "mimetype": "text/x-python",
   "name": "python",
   "nbconvert_exporter": "python",
   "pygments_lexer": "ipython3",
   "version": "3.6.1"
  }
 },
 "nbformat": 4,
 "nbformat_minor": 2
}
